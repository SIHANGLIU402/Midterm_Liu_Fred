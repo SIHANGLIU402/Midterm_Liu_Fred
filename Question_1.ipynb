{
 "cells": [
  {
   "cell_type": "code",
   "execution_count": 5,
   "id": "fe74dae1",
   "metadata": {},
   "outputs": [
    {
     "name": "stdout",
     "output_type": "stream",
     "text": [
      "[0, 0, 0, 0, 0, 0, 0, 0, 0, 1, 1, 1, 1, 1, 1, 1, 1, 1, 1, 1, 1, 1, 1, 2, 2, 2, 2, 2, 2, 2, 2, 2, 2, 2, 2, 2, 2, 2, 2, 2, 2, 2, 3, 3, 3, 3, 3, 3, 3, 3, 3, 3, 3, 3, 3, 3, 3, 3, 3, 3, 3, 3, 4, 4, 4, 4, 4, 4, 4, 4, 4, 4, 4, 4, 4, 4, 4, 4, 4, 4, 4, 4, 4, 4, 5, 5, 5, 5, 5, 5, 5, 5, 5, 5, 6, 6, 6, 6, 6, 6, 6, 6, 6, 6, 6, 6, 6, 6, 6, 6, 6, 6, 6, 6, 6, 6, 6, 6, 6, 6, 7, 7, 7, 7, 7, 7, 7, 7, 7, 7, 7, 7, 7, 7, 7, 7, 7, 8, 8, 8, 8, 8, 8, 8, 8, 8, 8, 8, 8, 8, 9, 9, 9, 9, 9, 9, 9, 9, 9, 9, 9, 9, 9, 9, 9, 9, 9, 9, 9, 9, 9, 9, 9, 9, 10, 10, 10, 10, 10, 10, 10, 10, 10, 10, 10, 10, 10, 10]\n"
     ]
    }
   ],
   "source": [
    "from matplotlib import pyplot as plt\n",
    "import numpy as np\n",
    "import json\n",
    "f = open(\"C:/Users/fredl/Desktop/stat1129/number.txt\", \"r\")\n",
    "data = f.read()\n",
    "#remove lines and replace with a comma, then split this string into a list\n",
    "data_into_list = data.replace('\\n', ',').split(',')\n",
    "#convert the data type into integers\n",
    "for i in range(0, len(data_into_list)): \n",
    "    data_into_list[i] = int(data_into_list[i])\n",
    "#sort the list from smallest to largest\n",
    "numbers_sorted = sorted(data_into_list)\n",
    "print(numbers_sorted)\n"
   ]
  },
  {
   "cell_type": "code",
   "execution_count": 6,
   "id": "85821848",
   "metadata": {},
   "outputs": [
    {
     "name": "stdout",
     "output_type": "stream",
     "text": [
      " 0 :  9\n",
      " 1 :  14\n",
      " 2 :  19\n",
      " 3 :  20\n",
      " 4 :  22\n",
      " 5 :  10\n",
      " 6 :  26\n",
      " 7 :  17\n",
      " 8 :  13\n",
      " 9 :  24\n",
      " 10 :  14\n",
      "explanation: here 0 occurs 9 times,1 occurs 14 times,2 occurs 19 times,3 occurs 20 times,4 occurs 22 times,5 occurs 10 times,6 occurs 26 times,7 occurs 17 times,8 occurs 13 times,9 occurs 24 times,10 occurs 14 times,"
     ]
    }
   ],
   "source": [
    "frequency = {}\n",
    "#count the frequency\n",
    "for item in numbers_sorted:\n",
    "   #the number already exists in the dictionary, the frequency will plus one\n",
    "   if item in frequency:\n",
    "      frequency[item] += 1\n",
    "   #if the number does not exist in the dictionary, it will be added and frequence counted as one\n",
    "   else:\n",
    "      frequency[item] = 1\n",
    "#iterate and print output in the required format\n",
    "for key, value in frequency.items():\n",
    "    print (\"% d : % d\"%(key, value))\n",
    "print('explanation: here ', end = '')\n",
    "for key, value in frequency.items():\n",
    "    print (f'{key} occurs {value} times,', end = '')\n",
    "\n"
   ]
  },
  {
   "cell_type": "code",
   "execution_count": 7,
   "id": "c0d3c42f",
   "metadata": {},
   "outputs": [
    {
     "data": {
      "image/png": "[encoded data removed]",
      "text/plain": [
       "<Figure size 432x288 with 1 Axes>"
      ]
     },
     "metadata": {
      "needs_background": "light"
     },
     "output_type": "display_data"
    }
   ],
   "source": [
    "#plot a histogram using the sorted list\n",
    "counts, edges, bars = plt.hist(numbers_sorted, bins=11)\n",
    "plt.bar_label(bars)\n",
    "\n",
    "plt.show()"
   ]
  },
  {
   "cell_type": "code",
   "execution_count": 8,
   "id": "9a57baba",
   "metadata": {},
   "outputs": [],
   "source": [
    "with open('C:/Users/fredl/Desktop/stat1129/data.json', 'w') as fp:\n",
    "    json.dump(frequency, fp)"
   ]
  }
 ],
 "metadata": {
  "kernelspec": {
   "display_name": "Python 3 (ipykernel)",
   "language": "python",
   "name": "python3"
  },
  "language_info": {
   "codemirror_mode": {
    "name": "ipython",
    "version": 3
   },
   "file_extension": ".py",
   "mimetype": "text/x-python",
   "name": "python",
   "nbconvert_exporter": "python",
   "pygments_lexer": "ipython3",
   "version": "3.9.7"
  }
 },
 "nbformat": 4,
 "nbformat_minor": 5
}
